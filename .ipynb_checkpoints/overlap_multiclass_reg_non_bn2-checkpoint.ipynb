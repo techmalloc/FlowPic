{
 "cells": [
  {
   "cell_type": "code",
   "metadata": {
    "scrolled": true,
    "ExecuteTime": {
     "end_time": "2025-10-14T14:39:28.777545Z",
     "start_time": "2025-10-14T14:39:28.776068Z"
    }
   },
   "source": "",
   "outputs": [],
   "execution_count": null
  },
  {
   "cell_type": "markdown",
   "metadata": {},
   "source": [
    "\n",
    "import sys\n",
    "\n",
    "print(sys.executable)"
   ]
  },
  {
   "cell_type": "markdown",
   "metadata": {},
   "source": [
    "### Import Libraries"
   ]
  },
  {
   "cell_type": "code",
   "metadata": {
    "ExecuteTime": {
     "end_time": "2025-10-14T14:39:34.044257Z",
     "start_time": "2025-10-14T14:39:34.041075Z"
    }
   },
   "source": [
    "import numpy as np\n",
    "import os\n",
    "import random\n",
    "import tensorflow as tf\n",
    "from tensorflow.keras.models import Sequential\n",
    "from tensorflow.keras.layers import Dense, Dropout, Flatten, Conv2D, MaxPooling2D, Activation, BatchNormalization\n",
    "from tensorflow.keras.utils import to_categorical\n",
    "from tensorflow.keras.callbacks import TensorBoard, ModelCheckpoint\n",
    "from tensorflow.keras import backend as K\n",
    "from tensorflow.keras.metrics import top_k_categorical_accuracy\n",
    "\n",
    "import matplotlib.pyplot as plt\n",
    "import matplotlib.cm as cm\n",
    "import numpy.ma as ma\n",
    "import pylab as pl\n",
    "from mpl_toolkits.axes_grid1 import make_axes_locatable\n",
    "from sklearn.metrics import confusion_matrix\n",
    "import itertools\n",
    "\n",
    "# Set data format\n",
    "K.set_image_data_format('channels_first')\n",
    "print(K.backend(), K.image_data_format())\n"
   ],
   "outputs": [
    {
     "name": "stdout",
     "output_type": "stream",
     "text": [
      "tensorflow channels_first\n"
     ]
    }
   ],
   "execution_count": 3
  },
  {
   "cell_type": "markdown",
   "metadata": {},
   "source": [
    "### Define Parameters"
   ]
  },
  {
   "cell_type": "code",
   "metadata": {
    "ExecuteTime": {
     "end_time": "2025-10-14T14:39:43.941528Z",
     "start_time": "2025-10-14T14:39:36.332133Z"
    }
   },
   "source": [
    "batch_size = 128\n",
    "samples_per_epoch = 10\n",
    "num_classes = 5\n",
    "epochs = 40\n",
    "class_names = [\"voip\", \"video\", \"file transfer\", \"chat\", \"browsing\"]\n",
    "\n",
    "height, width = 1500, 1500\n",
    "input_shape = (1500, 1500, 1)  # NHWC\n",
    "\n",
    "\n",
    "MODEL_NAME = \"overlap_multiclass_reg_non_bn\"\n",
    "PATH_PREFIX = \"datasets/\"\n",
    "dataset_file = os.path.join(PATH_PREFIX, \"file_vs_all_reg.npz\")\n",
    "dataset = np.load(dataset_file)\n",
    "\n",
    "x_train = dataset['x_train']\n",
    "y_train_true = dataset['y_train']\n",
    "x_val = dataset['x_val']\n",
    "y_val_true = dataset['y_val']\n",
    "\n",
    "x_train = x_train.transpose(0, 2, 3, 1)  # from (samples, 1, H, W) -> (samples, H, W, 1)\n",
    "x_val = x_val.transpose(0, 2, 3, 1)\n",
    "\n",
    "print(x_train.shape, y_train_true.shape)\n",
    "print(x_val.shape, y_val_true.shape)\n",
    "\n",
    "# Shuffle data\n",
    "def shuffle_data(x, y):\n",
    "    s = np.arange(x.shape[0])\n",
    "    np.random.shuffle(s)\n",
    "    return x[s], y[s]\n",
    "\n",
    "x_train, y_train_true = shuffle_data(x_train, y_train_true)\n",
    "\n",
    "# Convert labels to categorical\n",
    "y_train = to_categorical(y_train_true, num_classes)\n",
    "y_val = to_categorical(y_val_true, num_classes)\n"
   ],
   "outputs": [
    {
     "name": "stdout",
     "output_type": "stream",
     "text": [
      "(1988, 1500, 1500, 1) (1988,)\n",
      "(221, 1500, 1500, 1) (221,)\n"
     ]
    }
   ],
   "execution_count": 4
  },
  {
   "cell_type": "markdown",
   "metadata": {},
   "source": [
    "### Import Train and Validation Data"
   ]
  },
  {
   "cell_type": "code",
   "metadata": {
    "ExecuteTime": {
     "end_time": "2025-10-14T14:39:54.519327Z",
     "start_time": "2025-10-14T14:39:51.123488Z"
    }
   },
   "source": [
    "\n",
    "\n",
    "# Shuffle data\n",
    "def shuffle_data(x, y):\n",
    "    s = np.arange(x.shape[0])\n",
    "    np.random.shuffle(s)\n",
    "    return x[s], y[s]\n",
    "\n",
    "x_train, y_train_true = shuffle_data(x_train, y_train_true)\n",
    "\n",
    "# Convert labels to categorical\n",
    "y_train = to_categorical(y_train_true, num_classes)\n",
    "y_val = to_categorical(y_val_true, num_classes)\n"
   ],
   "outputs": [],
   "execution_count": 5
  },
  {
   "cell_type": "markdown",
   "metadata": {},
   "source": [
    "### Shuffle Data"
   ]
  },
  {
   "cell_type": "code",
   "metadata": {
    "ExecuteTime": {
     "end_time": "2025-10-14T14:39:59.418672Z",
     "start_time": "2025-10-14T14:39:56.072217Z"
    }
   },
   "source": [
    "def shuffle_data(x, y):\n",
    "    s = np.arange(x.shape[0])\n",
    "    np.random.shuffle(s)\n",
    "    x = x[s]\n",
    "    y = y[s]\n",
    "    print (x.shape, y.shape)\n",
    "    return x, y\n",
    "\n",
    "x_train, y_train_true = shuffle_data(x_train, y_train_true)\n",
    "\n",
    "print(y_train_true[0:10])"
   ],
   "outputs": [
    {
     "name": "stdout",
     "output_type": "stream",
     "text": [
      "(1988, 1500, 1500, 1) (1988,)\n",
      "[1. 1. 1. 0. 1. 1. 1. 1. 1. 1.]\n"
     ]
    }
   ],
   "execution_count": 6
  },
  {
   "cell_type": "markdown",
   "metadata": {},
   "source": [
    "### convert class vectors to binary class matrices"
   ]
  },
  {
   "cell_type": "code",
   "metadata": {
    "ExecuteTime": {
     "end_time": "2025-10-14T14:40:00.840703Z",
     "start_time": "2025-10-14T14:40:00.835421Z"
    }
   },
   "source": [
    "y_train = to_categorical(y_train_true, num_classes)\n",
    "y_val =to_categorical(y_val_true, num_classes)\n",
    "print(y_train[0:10])\n",
    "print (y_val[0:10])\n",
    "print(y_train.shape, y_val.shape)"
   ],
   "outputs": [
    {
     "name": "stdout",
     "output_type": "stream",
     "text": [
      "[[0. 1. 0. 0. 0.]\n",
      " [0. 1. 0. 0. 0.]\n",
      " [0. 1. 0. 0. 0.]\n",
      " [1. 0. 0. 0. 0.]\n",
      " [0. 1. 0. 0. 0.]\n",
      " [0. 1. 0. 0. 0.]\n",
      " [0. 1. 0. 0. 0.]\n",
      " [0. 1. 0. 0. 0.]\n",
      " [0. 1. 0. 0. 0.]\n",
      " [0. 1. 0. 0. 0.]]\n",
      "[[0. 1. 0. 0. 0.]\n",
      " [0. 1. 0. 0. 0.]\n",
      " [1. 0. 0. 0. 0.]\n",
      " [0. 1. 0. 0. 0.]\n",
      " [0. 1. 0. 0. 0.]\n",
      " [0. 1. 0. 0. 0.]\n",
      " [0. 1. 0. 0. 0.]\n",
      " [0. 1. 0. 0. 0.]\n",
      " [0. 1. 0. 0. 0.]\n",
      " [0. 1. 0. 0. 0.]]\n",
      "(1988, 5) (221, 5)\n"
     ]
    }
   ],
   "execution_count": 7
  },
  {
   "cell_type": "markdown",
   "metadata": {},
   "source": [
    "### Define and Compile model"
   ]
  },
  {
   "cell_type": "code",
   "metadata": {
    "ExecuteTime": {
     "end_time": "2025-10-14T14:40:04.958999Z",
     "start_time": "2025-10-14T14:40:04.953845Z"
    }
   },
   "source": [
    "def precision(y_true, y_pred):\n",
    "    y_true = tf.cast(y_true, tf.float32)\n",
    "    y_pred = tf.cast(y_pred, tf.float32)\n",
    "    true_positives = K.sum(K.round(K.clip(y_true * y_pred, 0, 1)))\n",
    "    predicted_positives = K.sum(K.round(K.clip(y_pred, 0, 1)))\n",
    "    return true_positives / (predicted_positives + K.epsilon())\n",
    "\n",
    "def recall(y_true, y_pred):\n",
    "    y_true = tf.cast(y_true, tf.float32)\n",
    "    y_pred = tf.cast(y_pred, tf.float32)\n",
    "    true_positives = K.sum(K.round(K.clip(y_true * y_pred, 0, 1)))\n",
    "    possible_positives = K.sum(K.round(K.clip(y_true, 0, 1)))\n",
    "    return true_positives / (possible_positives + K.epsilon())\n",
    "\n",
    "def f1_score(y_true, y_pred):\n",
    "    prec = precision(y_true, y_pred)\n",
    "    rec = recall(y_true, y_pred)\n",
    "    return 2*((prec*rec)/(prec+rec+K.epsilon()))\n"
   ],
   "outputs": [],
   "execution_count": 8
  },
  {
   "cell_type": "markdown",
   "metadata": {},
   "source": [
    "### Define nice_imshow and make_moasic functions"
   ]
  },
  {
   "cell_type": "code",
   "metadata": {
    "ExecuteTime": {
     "end_time": "2025-10-14T14:40:07.742454Z",
     "start_time": "2025-10-14T14:40:07.630606Z"
    }
   },
   "source": [
    "import pylab as pl\n",
    "import matplotlib.cm as cm\n",
    "from mpl_toolkits.axes_grid1 import make_axes_locatable\n",
    "import numpy.ma as ma\n",
    "\n",
    "def nice_imshow(ax, data, vmin=None, vmax=None, cmap=None, bar=True):\n",
    "    \"\"\"Wrapper around pl.imshow\"\"\"\n",
    "    if cmap is None:\n",
    "        cmap = cm.jet\n",
    "    if vmin is None:\n",
    "        vmin = data.min()\n",
    "    if vmax is None:\n",
    "        vmax = data.max()\n",
    "    divider = make_axes_locatable(ax)\n",
    "    im = ax.imshow(data, vmin=vmin, vmax=vmax, interpolation='nearest', cmap=cmap,origin='lower')\n",
    "    if bar:\n",
    "        cax = divider.append_axes(\"right\", size=\"5%\", pad=0.05)\n",
    "        pl.colorbar(im, cax=cax)\n",
    "\n",
    "def plotNNFilter2(data, nrows, ncols, layer_name, cmap=None, bar=True):\n",
    "    \"\"\"Wrapper around pl.subplot with color bar\"\"\"\n",
    "    if cmap is None:\n",
    "        cmap = \"gray\"\n",
    "    \n",
    "    fig, axes = pl.subplots(nrows, ncols,figsize=(5*ncols, 4*nrows))\n",
    "    for i, ax in enumerate(axes.flat):\n",
    "        im = ax.imshow(data[:,:,i], interpolation=\"nearest\", cmap=cmap)\n",
    "        ax.set_yticklabels([])\n",
    "        ax.set_xticklabels([])\n",
    "        ax.invert_yaxis()\n",
    "\n",
    "    fig.subplots_adjust(wspace=0.025, hspace=0.05)\n",
    "    if bar:\n",
    "        fig.colorbar(im, ax=axes.ravel().tolist())\n",
    "    \n",
    "    pl.savefig(MODEL_NAME +  \"_plotNNFilter2_\" + layer_name, bbox_inches='tight', pad_inches=1)\n",
    "    pl.show()\n",
    "\n",
    "def plotNNFilter(data, nrows, ncols, layer_name, cmap=None, bar=True):\n",
    "    \"\"\"Wrapper around pl.subplot\"\"\"\n",
    "    if cmap is None:\n",
    "        cmap = \"gray\"\n",
    "    \n",
    "    pl.figure(figsize=(3*ncols, 3*nrows))\n",
    "    \n",
    "    for i in range(nrows*ncols):\n",
    "        pl.subplot(nrows, ncols, i+1)\n",
    "        pl.imshow(data[:,:,i], interpolation=\"nearest\", cmap=cmap)\n",
    "        pl.xticks([])\n",
    "        pl.yticks([])\n",
    "        pl.gca().invert_yaxis()\n",
    "    pl.subplots_adjust(wspace=0.025, hspace=0.05)\n",
    "    pl.savefig(MODEL_NAME +  \"_plotNNFilter_\" + layer_name, bbox_inches='tight', pad_inches=1)\n",
    "    pl.show()\n",
    "        \n",
    "def make_mosaic(imgs, nrows, ncols, border=1):\n",
    "    \"\"\"\n",
    "    Given a set of images with all the same shape, makes a\n",
    "    mosaic with nrows and ncols\n",
    "    \"\"\"\n",
    "    nimgs = imgs.shape[2]\n",
    "    imshape = imgs.shape[0:2]\n",
    "    \n",
    "    mosaic = ma.masked_all((nrows * imshape[0] + (nrows - 1) * border,\n",
    "                            ncols * imshape[1] + (ncols - 1) * border),\n",
    "                            dtype=np.float32)\n",
    "    \n",
    "    paddedh = imshape[0] + border\n",
    "    paddedw = imshape[1] + border\n",
    "    for i in range(nimgs):\n",
    "        row = int(np.floor(i / ncols))\n",
    "        col = i % ncols\n",
    "        \n",
    "        mosaic[row * paddedh:row * paddedh + imshape[0],\n",
    "               col * paddedw:col * paddedw + imshape[1]] = imgs[:,:,i]\n",
    "    return mosaic\n",
    "\n",
    "def mosaic_imshow(imgs, nrows, ncols, cmap=None, border=1, layer_name=\"convout\"):\n",
    "    pl.figure(figsize=(3*ncols, 3*nrows))\n",
    "#     pl.suptitle('convout2')\n",
    "    nice_imshow(pl.gca(), make_mosaic(imgs, nrows, ncols, border=border), cmap=cmap)\n",
    "    pl.savefig(MODEL_NAME +  \"_mosaic_imshow_\" + layer_name, bbox_inches='tight', pad_inches=1)\n",
    "    pl.show()\n",
    "\n",
    "pl.imshow(make_mosaic(np.random.random((10, 10, 9)), 3, 3, border=1))\n",
    "pl.show()"
   ],
   "outputs": [
    {
     "data": {
      "text/plain": [
       "<Figure size 640x480 with 1 Axes>"
      ],
      "image/png": "[encoded data removed]"
     },
     "metadata": {},
     "output_type": "display_data"
    }
   ],
   "execution_count": 9
  },
  {
   "cell_type": "code",
   "metadata": {
    "ExecuteTime": {
     "end_time": "2025-10-14T14:02:03.818214Z",
     "start_time": "2025-10-14T14:02:03.816726Z"
    }
   },
   "source": "",
   "outputs": [],
   "execution_count": null
  },
  {
   "cell_type": "code",
   "metadata": {
    "ExecuteTime": {
     "end_time": "2025-10-14T14:40:14.234941Z",
     "start_time": "2025-10-14T14:40:14.022994Z"
    }
   },
   "source": [
    "from tensorflow.keras.models import Sequential\n",
    "from tensorflow.keras.layers import Conv2D, MaxPooling2D, Flatten, Dense, Dropout, Activation\n",
    "\n",
    "# Ensure your input shape matches your data\n",
    "input_shape = (1, 1500, 1500)  # channels_first\n",
    "\n",
    "model = Sequential([\n",
    "    Conv2D(10, kernel_size=(10,10), strides=5, padding=\"same\", input_shape=input_shape, name=\"conv1\"),\n",
    "    Activation('relu', name=\"relu1\"),\n",
    "    MaxPooling2D(pool_size=(2,2)),\n",
    "\n",
    "    Conv2D(20, kernel_size=(10,10), strides=5, padding=\"same\", name=\"conv2\"),\n",
    "    Activation('relu', name=\"relu2\"),\n",
    "    Dropout(0.25),\n",
    "    MaxPooling2D(pool_size=(2,2)),\n",
    "\n",
    "    Flatten(),\n",
    "    Dense(64, activation='relu', name=\"dense1\"),\n",
    "    Dropout(0.5),\n",
    "    Dense(num_classes, activation='softmax', name=\"output\")\n",
    "])\n",
    "\n",
    "\n",
    "model.compile(\n",
    "    loss='categorical_crossentropy',\n",
    "    optimizer='adam',\n",
    "    metrics=['accuracy', top_2_categorical_accuracy, f1_score, precision, recall]\n",
    ")\n",
    "\n",
    "model.summary()\n",
    "\n",
    "# Visualize weights\n",
    "W1 = model.layers[0].get_weights()[0]\n",
    "W1 = np.squeeze(W1)\n",
    "# W1 = np.asarray(W1)\n",
    "print(\"W1 shape : \", W1.shape)\n",
    "\n",
    "mosaic_imshow(W1, 2, 5, cmap=cm.binary, border=1, layer_name=\"conv1_weights_before\")\n",
    "plotNNFilter(W1, 2, 5, cmap=cm.binary, layer_name=\"conv1_weights_before\")\n",
    "plotNNFilter2(W1, 2, 5, cmap=cm.binary, layer_name=\"conv1_weights_before\")\n",
    "\n",
    "# Visualize weights\n",
    "W2 = model.layers[3].get_weights()[0][:,:,0,:]\n",
    "W2 = np.asarray(W2)\n",
    "print(\"W2 shape : \", W2.shape)\n",
    "\n",
    "mosaic_imshow(W2, 4, 5, cmap=cm.binary, border=1, layer_name=\"conv2_weights_before\")\n",
    "plotNNFilter(W2, 4, 5, cmap=cm.binary, layer_name=\"conv2_weights_before\")\n",
    "plotNNFilter2(W2, 4, 5, cmap=cm.binary, layer_name=\"conv2_weights_before\")\n"
   ],
   "outputs": [
    {
     "name": "stderr",
     "output_type": "stream",
     "text": [
      "/Library/Frameworks/Python.framework/Versions/3.12/lib/python3.12/site-packages/keras/src/layers/convolutional/base_conv.py:113: UserWarning: Do not pass an `input_shape`/`input_dim` argument to a layer. When using Sequential models, prefer using an `Input(shape)` object as the first layer in the model instead.\n",
      "  super().__init__(activity_regularizer=activity_regularizer, **kwargs)\n"
     ]
    },
    {
     "ename": "NameError",
     "evalue": "name 'top_2_categorical_accuracy' is not defined",
     "output_type": "error",
     "traceback": [
      "\u001B[31m---------------------------------------------------------------------------\u001B[39m",
      "\u001B[31mNameError\u001B[39m                                 Traceback (most recent call last)",
      "\u001B[36mCell\u001B[39m\u001B[36m \u001B[39m\u001B[32mIn[10]\u001B[39m\u001B[32m, line 27\u001B[39m\n\u001B[32m      5\u001B[39m input_shape = (\u001B[32m1\u001B[39m, \u001B[32m1500\u001B[39m, \u001B[32m1500\u001B[39m)  \u001B[38;5;66;03m# channels_first\u001B[39;00m\n\u001B[32m      7\u001B[39m model = Sequential([\n\u001B[32m      8\u001B[39m     Conv2D(\u001B[32m10\u001B[39m, kernel_size=(\u001B[32m10\u001B[39m,\u001B[32m10\u001B[39m), strides=\u001B[32m5\u001B[39m, padding=\u001B[33m\"\u001B[39m\u001B[33msame\u001B[39m\u001B[33m\"\u001B[39m, input_shape=input_shape, name=\u001B[33m\"\u001B[39m\u001B[33mconv1\u001B[39m\u001B[33m\"\u001B[39m),\n\u001B[32m      9\u001B[39m     Activation(\u001B[33m'\u001B[39m\u001B[33mrelu\u001B[39m\u001B[33m'\u001B[39m, name=\u001B[33m\"\u001B[39m\u001B[33mrelu1\u001B[39m\u001B[33m\"\u001B[39m),\n\u001B[32m   (...)\u001B[39m\u001B[32m     20\u001B[39m     Dense(num_classes, activation=\u001B[33m'\u001B[39m\u001B[33msoftmax\u001B[39m\u001B[33m'\u001B[39m, name=\u001B[33m\"\u001B[39m\u001B[33moutput\u001B[39m\u001B[33m\"\u001B[39m)\n\u001B[32m     21\u001B[39m ])\n\u001B[32m     24\u001B[39m model.compile(\n\u001B[32m     25\u001B[39m     loss=\u001B[33m'\u001B[39m\u001B[33mcategorical_crossentropy\u001B[39m\u001B[33m'\u001B[39m,\n\u001B[32m     26\u001B[39m     optimizer=\u001B[33m'\u001B[39m\u001B[33madam\u001B[39m\u001B[33m'\u001B[39m,\n\u001B[32m---> \u001B[39m\u001B[32m27\u001B[39m     metrics=[\u001B[33m'\u001B[39m\u001B[33maccuracy\u001B[39m\u001B[33m'\u001B[39m, \u001B[43mtop_2_categorical_accuracy\u001B[49m, f1_score, precision, recall]\n\u001B[32m     28\u001B[39m )\n\u001B[32m     30\u001B[39m model.summary()\n\u001B[32m     32\u001B[39m \u001B[38;5;66;03m# Visualize weights\u001B[39;00m\n",
      "\u001B[31mNameError\u001B[39m: name 'top_2_categorical_accuracy' is not defined"
     ]
    }
   ],
   "execution_count": 10
  },
  {
   "cell_type": "markdown",
   "metadata": {},
   "source": [
    "### Fit model on training data"
   ]
  },
  {
   "cell_type": "code",
   "metadata": {
    "ExecuteTime": {
     "end_time": "2025-10-14T14:11:52.028839Z",
     "start_time": "2025-10-14T14:11:51.161512Z"
    }
   },
   "source": [
    "from tensorflow.keras.callbacks import TensorBoard, ModelCheckpoint\n",
    "def generator(features, labels, batch_size):\n",
    "    num_samples = len(features)\n",
    "    while True:\n",
    "        for offset in range(0, num_samples, batch_size):\n",
    "            batch_x = features[offset:offset+batch_size].astype(np.float32)\n",
    "            batch_y = labels[offset:offset+batch_size].astype(np.float32)\n",
    "            yield batch_x, batch_y\n",
    "\n",
    "# Callbacks\n",
    "tensorboard = TensorBoard(\n",
    "    log_dir='./Graph',\n",
    "    histogram_freq=1,\n",
    "    write_images=True\n",
    ")\n",
    "\n",
    "checkpointer_loss = ModelCheckpoint(\n",
    "    filepath=MODEL_NAME + '_loss.weights.h5',\n",
    "    verbose=1,\n",
    "    save_best_only=True,\n",
    "    save_weights_only=True\n",
    ")\n",
    "\n",
    "checkpointer_acc = ModelCheckpoint(\n",
    "    monitor='val_accuracy',\n",
    "    filepath=MODEL_NAME + '_acc.weights.h5',\n",
    "    verbose=1,\n",
    "    save_best_only=True,\n",
    "    save_weights_only=True\n",
    ")\n",
    "\n",
    "# Train the model\n",
    "history = model.fit(\n",
    "    generator(x_train, y_train, batch_size),\n",
    "    steps_per_epoch=len(x_train)//batch_size,\n",
    "    epochs=epochs,\n",
    "    verbose=1,\n",
    "    callbacks=[tensorboard, checkpointer_loss, checkpointer_acc],\n",
    "    validation_data=(x_val.astype(np.float32), y_val.astype(np.float32))\n",
    ")\n"
   ],
   "outputs": [
    {
     "name": "stdout",
     "output_type": "stream",
     "text": [
      "Epoch 1/40\n"
     ]
    },
    {
     "ename": "ValueError",
     "evalue": "Exception encountered when calling Sequential.call().\n\n\u001B[1mInput 0 of layer \"conv1\" is incompatible with the layer: expected axis 1 of input shape to have value 1, but received input with shape (None, 1500, 1500, 1)\u001B[0m\n\nArguments received by Sequential.call():\n  • inputs=tf.Tensor(shape=(None, 1500, 1500, 1), dtype=float32)\n  • training=True\n  • mask=None\n  • kwargs=<class 'inspect._empty'>",
     "output_type": "error",
     "traceback": [
      "\u001B[31m---------------------------------------------------------------------------\u001B[39m",
      "\u001B[31mValueError\u001B[39m                                Traceback (most recent call last)",
      "\u001B[36mCell\u001B[39m\u001B[36m \u001B[39m\u001B[32mIn[63]\u001B[39m\u001B[32m, line 33\u001B[39m\n\u001B[32m     24\u001B[39m checkpointer_acc = ModelCheckpoint(\n\u001B[32m     25\u001B[39m     monitor=\u001B[33m'\u001B[39m\u001B[33mval_accuracy\u001B[39m\u001B[33m'\u001B[39m,\n\u001B[32m     26\u001B[39m     filepath=MODEL_NAME + \u001B[33m'\u001B[39m\u001B[33m_acc.weights.h5\u001B[39m\u001B[33m'\u001B[39m,\n\u001B[32m   (...)\u001B[39m\u001B[32m     29\u001B[39m     save_weights_only=\u001B[38;5;28;01mTrue\u001B[39;00m\n\u001B[32m     30\u001B[39m )\n\u001B[32m     32\u001B[39m \u001B[38;5;66;03m# Train the model\u001B[39;00m\n\u001B[32m---> \u001B[39m\u001B[32m33\u001B[39m history = \u001B[43mmodel\u001B[49m\u001B[43m.\u001B[49m\u001B[43mfit\u001B[49m\u001B[43m(\u001B[49m\n\u001B[32m     34\u001B[39m \u001B[43m    \u001B[49m\u001B[43mgenerator\u001B[49m\u001B[43m(\u001B[49m\u001B[43mx_train\u001B[49m\u001B[43m,\u001B[49m\u001B[43m \u001B[49m\u001B[43my_train\u001B[49m\u001B[43m,\u001B[49m\u001B[43m \u001B[49m\u001B[43mbatch_size\u001B[49m\u001B[43m)\u001B[49m\u001B[43m,\u001B[49m\n\u001B[32m     35\u001B[39m \u001B[43m    \u001B[49m\u001B[43msteps_per_epoch\u001B[49m\u001B[43m=\u001B[49m\u001B[38;5;28;43mlen\u001B[39;49m\u001B[43m(\u001B[49m\u001B[43mx_train\u001B[49m\u001B[43m)\u001B[49m\u001B[43m/\u001B[49m\u001B[43m/\u001B[49m\u001B[43mbatch_size\u001B[49m\u001B[43m,\u001B[49m\n\u001B[32m     36\u001B[39m \u001B[43m    \u001B[49m\u001B[43mepochs\u001B[49m\u001B[43m=\u001B[49m\u001B[43mepochs\u001B[49m\u001B[43m,\u001B[49m\n\u001B[32m     37\u001B[39m \u001B[43m    \u001B[49m\u001B[43mverbose\u001B[49m\u001B[43m=\u001B[49m\u001B[32;43m1\u001B[39;49m\u001B[43m,\u001B[49m\n\u001B[32m     38\u001B[39m \u001B[43m    \u001B[49m\u001B[43mcallbacks\u001B[49m\u001B[43m=\u001B[49m\u001B[43m[\u001B[49m\u001B[43mtensorboard\u001B[49m\u001B[43m,\u001B[49m\u001B[43m \u001B[49m\u001B[43mcheckpointer_loss\u001B[49m\u001B[43m,\u001B[49m\u001B[43m \u001B[49m\u001B[43mcheckpointer_acc\u001B[49m\u001B[43m]\u001B[49m\u001B[43m,\u001B[49m\n\u001B[32m     39\u001B[39m \u001B[43m    \u001B[49m\u001B[43mvalidation_data\u001B[49m\u001B[43m=\u001B[49m\u001B[43m(\u001B[49m\u001B[43mx_val\u001B[49m\u001B[43m.\u001B[49m\u001B[43mastype\u001B[49m\u001B[43m(\u001B[49m\u001B[43mnp\u001B[49m\u001B[43m.\u001B[49m\u001B[43mfloat32\u001B[49m\u001B[43m)\u001B[49m\u001B[43m,\u001B[49m\u001B[43m \u001B[49m\u001B[43my_val\u001B[49m\u001B[43m.\u001B[49m\u001B[43mastype\u001B[49m\u001B[43m(\u001B[49m\u001B[43mnp\u001B[49m\u001B[43m.\u001B[49m\u001B[43mfloat32\u001B[49m\u001B[43m)\u001B[49m\u001B[43m)\u001B[49m\n\u001B[32m     40\u001B[39m \u001B[43m)\u001B[49m\n",
      "\u001B[36mFile \u001B[39m\u001B[32m/Library/Frameworks/Python.framework/Versions/3.12/lib/python3.12/site-packages/keras/src/utils/traceback_utils.py:122\u001B[39m, in \u001B[36mfilter_traceback.<locals>.error_handler\u001B[39m\u001B[34m(*args, **kwargs)\u001B[39m\n\u001B[32m    119\u001B[39m     filtered_tb = _process_traceback_frames(e.__traceback__)\n\u001B[32m    120\u001B[39m     \u001B[38;5;66;03m# To get the full stack trace, call:\u001B[39;00m\n\u001B[32m    121\u001B[39m     \u001B[38;5;66;03m# `keras.config.disable_traceback_filtering()`\u001B[39;00m\n\u001B[32m--> \u001B[39m\u001B[32m122\u001B[39m     \u001B[38;5;28;01mraise\u001B[39;00m e.with_traceback(filtered_tb) \u001B[38;5;28;01mfrom\u001B[39;00m\u001B[38;5;250m \u001B[39m\u001B[38;5;28;01mNone\u001B[39;00m\n\u001B[32m    123\u001B[39m \u001B[38;5;28;01mfinally\u001B[39;00m:\n\u001B[32m    124\u001B[39m     \u001B[38;5;28;01mdel\u001B[39;00m filtered_tb\n",
      "\u001B[36mFile \u001B[39m\u001B[32m/Library/Frameworks/Python.framework/Versions/3.12/lib/python3.12/site-packages/keras/src/layers/input_spec.py:227\u001B[39m, in \u001B[36massert_input_compatibility\u001B[39m\u001B[34m(input_spec, inputs, layer_name)\u001B[39m\n\u001B[32m    222\u001B[39m     \u001B[38;5;28;01mfor\u001B[39;00m axis, value \u001B[38;5;129;01min\u001B[39;00m spec.axes.items():\n\u001B[32m    223\u001B[39m         \u001B[38;5;28;01mif\u001B[39;00m value \u001B[38;5;129;01mis\u001B[39;00m \u001B[38;5;129;01mnot\u001B[39;00m \u001B[38;5;28;01mNone\u001B[39;00m \u001B[38;5;129;01mand\u001B[39;00m shape[axis] \u001B[38;5;129;01mnot\u001B[39;00m \u001B[38;5;129;01min\u001B[39;00m {\n\u001B[32m    224\u001B[39m             value,\n\u001B[32m    225\u001B[39m             \u001B[38;5;28;01mNone\u001B[39;00m,\n\u001B[32m    226\u001B[39m         }:\n\u001B[32m--> \u001B[39m\u001B[32m227\u001B[39m             \u001B[38;5;28;01mraise\u001B[39;00m \u001B[38;5;167;01mValueError\u001B[39;00m(\n\u001B[32m    228\u001B[39m                 \u001B[33mf\u001B[39m\u001B[33m'\u001B[39m\u001B[33mInput \u001B[39m\u001B[38;5;132;01m{\u001B[39;00minput_index\u001B[38;5;132;01m}\u001B[39;00m\u001B[33m of layer \u001B[39m\u001B[33m\"\u001B[39m\u001B[38;5;132;01m{\u001B[39;00mlayer_name\u001B[38;5;132;01m}\u001B[39;00m\u001B[33m\"\u001B[39m\u001B[33m is \u001B[39m\u001B[33m'\u001B[39m\n\u001B[32m    229\u001B[39m                 \u001B[33mf\u001B[39m\u001B[33m\"\u001B[39m\u001B[33mincompatible with the layer: expected axis \u001B[39m\u001B[38;5;132;01m{\u001B[39;00maxis\u001B[38;5;132;01m}\u001B[39;00m\u001B[33m \u001B[39m\u001B[33m\"\u001B[39m\n\u001B[32m    230\u001B[39m                 \u001B[33mf\u001B[39m\u001B[33m\"\u001B[39m\u001B[33mof input shape to have value \u001B[39m\u001B[38;5;132;01m{\u001B[39;00mvalue\u001B[38;5;132;01m}\u001B[39;00m\u001B[33m, \u001B[39m\u001B[33m\"\u001B[39m\n\u001B[32m    231\u001B[39m                 \u001B[33m\"\u001B[39m\u001B[33mbut received input with \u001B[39m\u001B[33m\"\u001B[39m\n\u001B[32m    232\u001B[39m                 \u001B[33mf\u001B[39m\u001B[33m\"\u001B[39m\u001B[33mshape \u001B[39m\u001B[38;5;132;01m{\u001B[39;00mshape\u001B[38;5;132;01m}\u001B[39;00m\u001B[33m\"\u001B[39m\n\u001B[32m    233\u001B[39m             )\n\u001B[32m    234\u001B[39m \u001B[38;5;66;03m# Check shape.\u001B[39;00m\n\u001B[32m    235\u001B[39m \u001B[38;5;28;01mif\u001B[39;00m spec.shape \u001B[38;5;129;01mis\u001B[39;00m \u001B[38;5;129;01mnot\u001B[39;00m \u001B[38;5;28;01mNone\u001B[39;00m:\n",
      "\u001B[31mValueError\u001B[39m: Exception encountered when calling Sequential.call().\n\n\u001B[1mInput 0 of layer \"conv1\" is incompatible with the layer: expected axis 1 of input shape to have value 1, but received input with shape (None, 1500, 1500, 1)\u001B[0m\n\nArguments received by Sequential.call():\n  • inputs=tf.Tensor(shape=(None, 1500, 1500, 1), dtype=float32)\n  • training=True\n  • mask=None\n  • kwargs=<class 'inspect._empty'>"
     ]
    }
   ],
   "execution_count": 63
  },
  {
   "cell_type": "markdown",
   "metadata": {},
   "source": [
    "### Plot history accuracy"
   ]
  },
  {
   "cell_type": "code",
   "execution_count": 8,
   "metadata": {},
   "outputs": [
    {
     "ename": "NameError",
     "evalue": "name 'MODEL_NAME' is not defined",
     "output_type": "error",
     "traceback": [
      "\u001B[31m---------------------------------------------------------------------------\u001B[39m",
      "\u001B[31mNameError\u001B[39m                                 Traceback (most recent call last)",
      "\u001B[36mCell\u001B[39m\u001B[36m \u001B[39m\u001B[32mIn[8]\u001B[39m\u001B[32m, line 4\u001B[39m\n\u001B[32m      1\u001B[39m \u001B[38;5;28;01mimport\u001B[39;00m\u001B[38;5;250m \u001B[39m\u001B[34;01mmatplotlib\u001B[39;00m\u001B[34;01m.\u001B[39;00m\u001B[34;01mpyplot\u001B[39;00m\u001B[38;5;250m \u001B[39m\u001B[38;5;28;01mas\u001B[39;00m\u001B[38;5;250m \u001B[39m\u001B[34;01mplt\u001B[39;00m\n\u001B[32m      2\u001B[39m \u001B[38;5;28;01mimport\u001B[39;00m\u001B[38;5;250m \u001B[39m\u001B[34;01mpickle\u001B[39;00m\n\u001B[32m----> \u001B[39m\u001B[32m4\u001B[39m \u001B[38;5;28;01mwith\u001B[39;00m \u001B[38;5;28mopen\u001B[39m(\u001B[43mMODEL_NAME\u001B[49m +  \u001B[33m\"\u001B[39m\u001B[33m_accuracy.pkl\u001B[39m\u001B[33m\"\u001B[39m, \u001B[33m'\u001B[39m\u001B[33mwb\u001B[39m\u001B[33m'\u001B[39m) \u001B[38;5;28;01mas\u001B[39;00m output:\n\u001B[32m      5\u001B[39m     pickle.dump(history.history, output, pickle.HIGHEST_PROTOCOL)\n\u001B[32m      7\u001B[39m \u001B[38;5;66;03m# list all data in history\u001B[39;00m\n",
      "\u001B[31mNameError\u001B[39m: name 'MODEL_NAME' is not defined"
     ]
    }
   ],
   "source": [
    "import matplotlib.pyplot as plt\n",
    "import pickle\n",
    "\n",
    "with open(MODEL_NAME +  \"_accuracy.pkl\", 'wb') as output:\n",
    "    pickle.dump(history.history, output, pickle.HIGHEST_PROTOCOL)\n",
    "\n",
    "# list all data in history\n",
    "print(history.history.keys())\n",
    "x = np.asarray(range(1,epochs + 1))\n",
    "# summarize history for accuracy\n",
    "plt.figure()\n",
    "plt.plot(x, history.history['acc'])\n",
    "plt.plot(x, history.history['val_acc'])\n",
    "plt.title('model accuracy')\n",
    "plt.ylabel('accuracy')\n",
    "plt.xlabel('epoch')\n",
    "plt.legend(['train', 'val'], loc='upper left')\n",
    "plt.savefig(MODEL_NAME +  \" accuracy history\", bbox_inches='tight', pad_inches=1)\n",
    "plt.show()"
   ]
  },
  {
   "cell_type": "markdown",
   "metadata": {},
   "source": [
    "### Plot Confusion Matrix"
   ]
  },
  {
   "cell_type": "code",
   "execution_count": 9,
   "metadata": {},
   "outputs": [
    {
     "ename": "NameError",
     "evalue": "name 'model' is not defined",
     "output_type": "error",
     "traceback": [
      "\u001B[31m---------------------------------------------------------------------------\u001B[39m",
      "\u001B[31mNameError\u001B[39m                                 Traceback (most recent call last)",
      "\u001B[36mCell\u001B[39m\u001B[36m \u001B[39m\u001B[32mIn[9]\u001B[39m\u001B[32m, line 1\u001B[39m\n\u001B[32m----> \u001B[39m\u001B[32m1\u001B[39m y_val_prediction = \u001B[43mmodel\u001B[49m.predict_classes(x_val, verbose=\u001B[32m1\u001B[39m)\n",
      "\u001B[31mNameError\u001B[39m: name 'model' is not defined"
     ]
    }
   ],
   "source": [
    "y_val_prediction = model.predict_classes(x_val, verbose=1)"
   ]
  },
  {
   "cell_type": "code",
   "execution_count": 10,
   "metadata": {},
   "outputs": [
    {
     "ename": "NameError",
     "evalue": "name 'y_val_prediction' is not defined",
     "output_type": "error",
     "traceback": [
      "\u001B[31m---------------------------------------------------------------------------\u001B[39m",
      "\u001B[31mNameError\u001B[39m                                 Traceback (most recent call last)",
      "\u001B[36mCell\u001B[39m\u001B[36m \u001B[39m\u001B[32mIn[10]\u001B[39m\u001B[32m, line 1\u001B[39m\n\u001B[32m----> \u001B[39m\u001B[32m1\u001B[39m \u001B[38;5;28mprint\u001B[39m(\u001B[43my_val_prediction\u001B[49m[:\u001B[32m10\u001B[39m])\n",
      "\u001B[31mNameError\u001B[39m: name 'y_val_prediction' is not defined"
     ]
    }
   ],
   "source": [
    "print(y_val_prediction[:10])"
   ]
  },
  {
   "cell_type": "code",
   "execution_count": 11,
   "metadata": {},
   "outputs": [
    {
     "ename": "NameError",
     "evalue": "name 'y_val_true' is not defined",
     "output_type": "error",
     "traceback": [
      "\u001B[31m---------------------------------------------------------------------------\u001B[39m",
      "\u001B[31mNameError\u001B[39m                                 Traceback (most recent call last)",
      "\u001B[36mCell\u001B[39m\u001B[36m \u001B[39m\u001B[32mIn[11]\u001B[39m\u001B[32m, line 46\u001B[39m\n\u001B[32m     43\u001B[39m     plt.savefig(fname, bbox_inches=\u001B[33m'\u001B[39m\u001B[33mtight\u001B[39m\u001B[33m'\u001B[39m, pad_inches=\u001B[32m1\u001B[39m)\n\u001B[32m     45\u001B[39m \u001B[38;5;66;03m# Compute confusion matrix\u001B[39;00m\n\u001B[32m---> \u001B[39m\u001B[32m46\u001B[39m cnf_matrix = confusion_matrix(\u001B[43my_val_true\u001B[49m, y_val_prediction)\n\u001B[32m     47\u001B[39m np.set_printoptions(precision=\u001B[32m2\u001B[39m)\n\u001B[32m     49\u001B[39m \u001B[38;5;66;03m# Plot non-normalized confusion matrix\u001B[39;00m\n",
      "\u001B[31mNameError\u001B[39m: name 'y_val_true' is not defined"
     ]
    }
   ],
   "source": [
    "from sklearn.metrics import confusion_matrix\n",
    "import itertools\n",
    "\n",
    "def plot_confusion_matrix(cm, classes,\n",
    "                          normalize=False,\n",
    "                          title='Confusion matrix',\n",
    "                          fname='Confusion matrix',\n",
    "                          cmap=plt.cm.Blues):\n",
    "    \"\"\"\n",
    "    This function prints and plots the confusion matrix.\n",
    "    Normalization can be applied by setting `normalize=True`.\n",
    "    \"\"\"\n",
    "    if normalize:\n",
    "        cm = cm.astype('float') / cm.sum(axis=1)[:, np.newaxis]\n",
    "        print(\"Normalized confusion matrix\")\n",
    "    else:\n",
    "        print('Confusion matrix, without normalization')\n",
    "\n",
    "    print(cm)\n",
    "\n",
    "    plt.imshow(cm, interpolation='nearest', cmap=cmap)\n",
    "    plt.title(title)\n",
    "    plt.colorbar()\n",
    "    tick_marks = np.arange(len(classes))\n",
    "    plt.xticks(tick_marks, classes, rotation=45)\n",
    "    plt.yticks(tick_marks, classes)\n",
    "\n",
    "    fmt = '.1f' if normalize else 'd'\n",
    "    thresh = cm.max() / 2.\n",
    "    for i, j in itertools.product(range(cm.shape[0]), range(cm.shape[1])):\n",
    "        if normalize:\n",
    "            plt.text(j, i, format(cm[i, j]*100, fmt) + '%',\n",
    "                 horizontalalignment=\"center\",\n",
    "                 color=\"white\" if cm[i, j] > thresh else \"black\")\n",
    "        else:\n",
    "            plt.text(j, i, format(cm[i, j], fmt),\n",
    "                 horizontalalignment=\"center\",\n",
    "                 color=\"white\" if cm[i, j] > thresh else \"black\")    \n",
    "        \n",
    "    plt.tight_layout()\n",
    "    plt.ylabel('True label')\n",
    "    plt.xlabel('Predicted label')\n",
    "    plt.savefig(fname, bbox_inches='tight', pad_inches=1)\n",
    "\n",
    "# Compute confusion matrix\n",
    "cnf_matrix = confusion_matrix(y_val_true, y_val_prediction)\n",
    "np.set_printoptions(precision=2)\n",
    "\n",
    "# Plot non-normalized confusion matrix\n",
    "plt.figure()\n",
    "plot_confusion_matrix(cnf_matrix, classes=class_names,\n",
    "                      title='Confusion matrix, without normalization',\n",
    "                      fname=MODEL_NAME + \"_\" + 'Confusion_matrix_without_normalization')\n",
    "\n",
    "# Plot normalized confusion matrix\n",
    "plt.figure()\n",
    "plot_confusion_matrix(cnf_matrix, classes=class_names, normalize=True,\n",
    "                      title='Normalized confusion matrix',\n",
    "                      fname=MODEL_NAME + \"_\" + 'Normalized_confusion_matrix')\n",
    "\n",
    "plt.show()"
   ]
  },
  {
   "cell_type": "code",
   "execution_count": null,
   "metadata": {},
   "outputs": [],
   "source": [
    "def stats(y_true, y_pred):\n",
    "    correct = sum([1 for i,pred in enumerate(y_pred) if y_true[i][pred]==1])\n",
    "    print(y_true.shape[0], correct, correct*1.0/len(y_true))\n",
    "    \n",
    "    for class_ind in range(y_true.shape[1]):\n",
    "        total_ind = len([1 for val in y_true if val[class_ind]==1])\n",
    "        correct_ind = sum([1 for i,pred in enumerate(y_pred) if (pred == class_ind and y_true[i][pred]==1)])\n",
    "        print(class_ind, total_ind, correct_ind, correct_ind*1.0/total_ind)\n",
    "\n",
    "stats(y_val, y_val_prediction)\n",
    "# stats(y_test_vpn, y_test_vpn_prediction)\n",
    "# stats(y_test_tor, y_test_tor_prediction)\n",
    "# correct_1 = sum([1 for i,pred in enumerate(y_test_prediction) if (pred == 1 and y_test[i][pred]==1)])\n",
    "# print correct_1, correct_1*1.0/len([1 for val in y_test if val[1]==1])"
   ]
  },
  {
   "cell_type": "code",
   "execution_count": null,
   "metadata": {},
   "outputs": [],
   "source": [
    "from sklearn.metrics import classification_report\n",
    "print(classification_report(y_val_true, y_val_prediction))"
   ]
  },
  {
   "cell_type": "code",
   "execution_count": null,
   "metadata": {},
   "outputs": [],
   "source": [
    "# Visualize the first layer of convolutions on an input image\n",
    "X = x_train[i][0]\n",
    "print(X)\n",
    "print(y_train_true[i])\n",
    "pl.figure(figsize=(15, 15))\n",
    "nice_imshow(pl.gca(), np.squeeze(X), vmin=0, vmax=1, cmap=cm.binary)\n",
    "pl.savefig(MODEL_NAME +  \"_input_\" + str(int(y_train_true[i])), bbox_inches='tight', pad_inches=1)\n",
    "pl.show()\n",
    "\n",
    "# Visualize convolution result (after activation)\n",
    "def get_layer_output(layer, input_img, layer_name):\n",
    "    convout_f = K.function(model.inputs, [layer.output])\n",
    "    C = convout_f([input_img])\n",
    "    C = np.squeeze(C)\n",
    "    print(layer_name + \" output shape : \", C.shape)\n",
    "    C = np.transpose(C)\n",
    "    C = np.swapaxes(C,0,1)\n",
    "    print(layer_name + \" output shape : \", C.shape)\n",
    "    return C\n",
    "\n",
    "\n",
    "C1 = get_layer_output(convout1, x_train[i:i+1], layer_name=\"convout1_\" + str(int(y_train_true[i])))\n",
    "mosaic_imshow(C1, 2, 5, cmap=cm.binary, border=2, layer_name=\"convout1_\" + str(int(y_train_true[i])))\n",
    "plotNNFilter(C1, 2, 5, cmap=cm.binary, layer_name=\"convout1_\" + str(int(y_train_true[i])))\n",
    "plotNNFilter2(C1, 2, 5, cmap=cm.binary, layer_name=\"convout1_\" + str(int(y_train_true[i])))\n",
    "\n",
    "C2 = get_layer_output(convout2, x_train[i:i+1], layer_name=\"convout2_\" + str(int(y_train_true[i])))\n",
    "mosaic_imshow(C2, 4, 5, cmap=cm.binary, border=2, layer_name=\"convout2_\" + str(int(y_train_true[i])))\n",
    "plotNNFilter(C2, 4, 5, cmap=cm.binary, layer_name=\"convout2_\" + str(int(y_train_true[i])))\n",
    "plotNNFilter2(C2, 4, 5, cmap=cm.binary, layer_name=\"convout2_\" + str(int(y_train_true[i])))"
   ]
  },
  {
   "cell_type": "code",
   "execution_count": null,
   "metadata": {},
   "outputs": [],
   "source": [
    "# Visualize weights\n",
    "W1 = model.layers[0].get_weights()[0]\n",
    "W1 = np.squeeze(W1)\n",
    "# W1 = np.asarray(W1)\n",
    "print(\"W1 shape : \", W1.shape)\n",
    "\n",
    "mosaic_imshow(W1, 2, 5, cmap=cm.binary, border=1, layer_name=\"conv1_weights\")\n",
    "plotNNFilter(W1, 2, 5, cmap=cm.binary, layer_name=\"conv1_weights\")\n",
    "plotNNFilter2(W1, 2, 5, cmap=cm.binary, layer_name=\"conv1_weights\")\n",
    "\n",
    "# Visualize weights\n",
    "W2 = model.layers[3].get_weights()[0][:,:,0,:]\n",
    "W2 = np.asarray(W2)\n",
    "print(\"W2 shape : \", W2.shape)\n",
    "\n",
    "mosaic_imshow(W2, 4, 5, cmap=cm.binary, border=1, layer_name=\"conv2_weights\")\n",
    "plotNNFilter(W2, 4, 5, cmap=cm.binary, layer_name=\"conv2_weights\")\n",
    "plotNNFilter2(W2, 4, 5, cmap=cm.binary, layer_name=\"conv2_weights\")\n"
   ]
  },
  {
   "cell_type": "code",
   "execution_count": null,
   "metadata": {},
   "outputs": [],
   "source": [
    "y_val_true, y_val_prediction\n",
    "\n",
    "for j in range(len(y_val_true)):\n",
    "    if y_val_true[j] == 0 and y_val_prediction[j] == 1:\n",
    "        print(j, sum(sum(sum(x_val[j]))))\n",
    "#         pl.figure(figsize=(10, 10))\n",
    "#         pl.title('input ' + str(j))\n",
    "#         nice_imshow(pl.gca(), np.squeeze(x_val[j]), vmin=0, vmax=1, cmap=cm.binary)\n",
    "#         pl.savefig(MODEL_NAME +  \"_input\", bbox_inches='tight', pad_inches=1)\n",
    "#         pl.show()"
   ]
  },
  {
   "cell_type": "markdown",
   "metadata": {},
   "source": [
    "### Import test data"
   ]
  },
  {
   "cell_type": "code",
   "execution_count": null,
   "metadata": {},
   "outputs": [],
   "source": [
    "x_test_vpn = np.load(PATH_PREFIX + \"vpn_x_test.npy\")\n",
    "y_test_vpn_true = np.load(PATH_PREFIX + \"vpn_y_test.npy\")\n",
    "x_test_tor = np.load(PATH_PREFIX + \"tor_x_test.npy\")\n",
    "y_test_tor_true = np.load(PATH_PREFIX + \"tor_y_test.npy\")\n",
    "\n",
    "y_test_vpn =to_categorical(y_test_vpn_true, num_classes)\n",
    "y_test_tor =to_categorical(y_test_tor_true, num_classes)\n",
    "\n",
    "print(x_test_vpn.shape, y_test_vpn.shape)\n",
    "print(x_test_tor.shape, y_test_tor.shape)"
   ]
  },
  {
   "cell_type": "markdown",
   "metadata": {},
   "source": [
    "### Evaluate model on test data"
   ]
  },
  {
   "cell_type": "code",
   "execution_count": null,
   "metadata": {},
   "outputs": [],
   "source": [
    "# model.load_weights(MODEL_NAME + '.hdf5')\n",
    "\n",
    "score_val = model.evaluate(x_val, y_val, verbose=1)\n",
    "print('Validation loss:', score_val[0])\n",
    "print('Validaion accuracy:', score_val[1])\n",
    "print('Validaion top_2_categorical_accuracy:', score_val[2])\n",
    "\n",
    "score_vpn = model.evaluate(x_test_vpn, y_test_vpn, verbose=1)\n",
    "print('VPN_Test loss:', score_vpn[0])\n",
    "print('VPN_Test accuracy:', score_vpn[1])\n",
    "print('VPN_Test top_2_categorical_accuracy:', score_vpn[2])\n",
    "\n",
    "score_tor = model.evaluate(x_test_tor, y_test_tor, verbose=1)\n",
    "print('TOR_Test loss:', score_tor[0])\n",
    "print('TOR_Test accuracy:', score_tor[1])\n",
    "print('TOR_Test top_2_categorical_accuracy:', score_tor[2])"
   ]
  },
  {
   "cell_type": "code",
   "execution_count": null,
   "metadata": {},
   "outputs": [],
   "source": [
    "y_test_vpn_prediction = model.predict_classes(x_test_vpn, verbose=1)\n",
    "y_test_tor_prediction = model.predict_classes(x_test_tor, verbose=1)"
   ]
  },
  {
   "cell_type": "code",
   "execution_count": null,
   "metadata": {},
   "outputs": [],
   "source": [
    "cnf_matrix_val = confusion_matrix(y_val_true, y_val_prediction)\n",
    "cnf_matrix_vpn = confusion_matrix(y_test_vpn_true, y_test_vpn_prediction)\n",
    "cnf_matrix_tor = confusion_matrix(y_test_tor_true, y_test_tor_prediction)\n",
    "\n",
    "# Plot normalized confusion matrix\n",
    "plt.figure()\n",
    "plot_confusion_matrix(cnf_matrix_val, classes=class_names, normalize=True,\n",
    "                      title='Normalized confusion matrix for regular validation set',\n",
    "                      fname=MODEL_NAME + \"_val_\" + 'Normalized_confusion_matrix')\n",
    "\n",
    "# Plot normalized confusion matrix\n",
    "plt.figure()\n",
    "plot_confusion_matrix(cnf_matrix_vpn, classes=class_names, normalize=True,\n",
    "                      title='Normalized confusion matrix for vpn test set',\n",
    "                      fname=MODEL_NAME + \"_test_vpn_\" + 'Normalized_confusion_matrix')\n",
    "\n",
    "# Plot normalized confusion matrix\n",
    "plt.figure()\n",
    "plot_confusion_matrix(cnf_matrix_tor, classes=class_names, normalize=True,\n",
    "                      title='Normalized confusion matrix for tor test set',\n",
    "                      fname=MODEL_NAME + \"_test_tor_\" + 'Normalized_confusion_matrix')\n",
    "\n",
    "plt.show()"
   ]
  },
  {
   "cell_type": "markdown",
   "metadata": {},
   "source": [
    "### Save Model and weights"
   ]
  },
  {
   "cell_type": "code",
   "execution_count": null,
   "metadata": {},
   "outputs": [],
   "source": [
    "model_json = model.to_json()\n",
    "with open(MODEL_NAME + '.json', \"w\") as json_file:\n",
    "    json_file.write(model_json)\n",
    "model.save_weights(MODEL_NAME + '.h5')\n",
    "print(\"Save Model\")"
   ]
  },
  {
   "cell_type": "code",
   "execution_count": null,
   "metadata": {},
   "outputs": [],
   "source": []
  },
  {
   "cell_type": "code",
   "execution_count": null,
   "metadata": {},
   "outputs": [],
   "source": []
  },
  {
   "cell_type": "code",
   "execution_count": null,
   "metadata": {},
   "outputs": [],
   "source": []
  },
  {
   "cell_type": "code",
   "execution_count": null,
   "metadata": {},
   "outputs": [],
   "source": []
  }
 ],
 "metadata": {
  "kernelspec": {
   "display_name": "Python 3 (ipykernel)",
   "language": "python",
   "name": "python3"
  },
  "language_info": {
   "codemirror_mode": {
    "name": "ipython",
    "version": 3
   },
   "file_extension": ".py",
   "mimetype": "text/x-python",
   "name": "python",
   "nbconvert_exporter": "python",
   "pygments_lexer": "ipython3",
   "version": "3.13.3"
  }
 },
 "nbformat": 4,
 "nbformat_minor": 4
}
